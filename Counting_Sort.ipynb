{
 "cells": [
  {
   "cell_type": "markdown",
   "metadata": {},
   "source": [
    "## Implementation of counting sort"
   ]
  },
  {
   "cell_type": "code",
   "execution_count": 86,
   "metadata": {},
   "outputs": [
    {
     "name": "stdout",
     "output_type": "stream",
     "text": [
      "[7, 1, 3, 1, 2, 4, 5, 7, 2, 4, 3]\n",
      "[0, 0, 0, 0, 0, 0, 0, 0, 0, 0, 0]\n",
      "11\n"
     ]
    }
   ],
   "source": [
    "\n",
    "A = [7,1,3,1,2,4,5,7,2,4,3]\n",
    "B = []\n",
    "C = []\n",
    "size = len(A)\n",
    "for i in range(size):\n",
    "    B.append(0)\n",
    "    \n",
    "#Taking input\n",
    "# size = int(input(\"Enter size of array: \"))\n",
    "# for i in range(size):\n",
    "#     A.append(int(input(\"Input for array: \")))\n",
    "\n",
    "print(A)\n",
    "print(B)\n",
    "print(size)"
   ]
  },
  {
   "cell_type": "code",
   "execution_count": 87,
   "metadata": {},
   "outputs": [],
   "source": [
    "def output(arr):\n",
    "    for i in range(1, len(arr)):\n",
    "        print(arr[i], end=' ')\n"
   ]
  },
  {
   "cell_type": "markdown",
   "metadata": {},
   "source": [
    "## Finding k(max element in A)"
   ]
  },
  {
   "cell_type": "code",
   "execution_count": 88,
   "metadata": {},
   "outputs": [
    {
     "name": "stdout",
     "output_type": "stream",
     "text": [
      "0 0 0 0 0 0 0 "
     ]
    }
   ],
   "source": [
    "\n",
    "k = max(A)\n",
    "#initializing C with 0\n",
    "while k != -1:\n",
    "    C.append(0)\n",
    "    k = k - 1\n",
    "output(C)\n"
   ]
  },
  {
   "cell_type": "markdown",
   "metadata": {},
   "source": [
    "## Calculating frequency of each item of A"
   ]
  },
  {
   "cell_type": "code",
   "execution_count": 89,
   "metadata": {},
   "outputs": [
    {
     "name": "stdout",
     "output_type": "stream",
     "text": [
      "2 2 2 2 1 0 2 "
     ]
    }
   ],
   "source": [
    "\n",
    "for i in range(0, size):\n",
    "    C[A[i]] += 1 \n",
    "output(C)"
   ]
  },
  {
   "cell_type": "markdown",
   "metadata": {},
   "source": [
    "## Calculating Cumalitive Frequency of C"
   ]
  },
  {
   "cell_type": "code",
   "execution_count": 90,
   "metadata": {},
   "outputs": [
    {
     "name": "stdout",
     "output_type": "stream",
     "text": [
      "2 4 6 8 9 9 11 "
     ]
    }
   ],
   "source": [
    "\n",
    "for i in range(2, len(C)):\n",
    "    C[i] = C[i] + C[i-1]\n",
    "output(C)\n"
   ]
  },
  {
   "cell_type": "markdown",
   "metadata": {},
   "source": [
    "## Getting Output"
   ]
  },
  {
   "cell_type": "code",
   "execution_count": 91,
   "metadata": {},
   "outputs": [
    {
     "name": "stdout",
     "output_type": "stream",
     "text": [
      "11\n",
      "Unsorted Array:  [7, 1, 3, 1, 2, 4, 5, 7, 2, 4, 3]\n",
      "Sorted Array:  [1, 1, 2, 2, 3, 3, 4, 4, 5, 7, 7]\n"
     ]
    }
   ],
   "source": [
    "print(size)\n",
    "i = size - 1\n",
    "while i >= 0:\n",
    "    B[C[A[i]] - 1] = A[i]\n",
    "    C[A[i]] -= 1\n",
    "    i -= 1\n",
    "\n",
    "print(\"Unsorted Array: \", A)\n",
    "print(\"Sorted Array: \", B)\n"
   ]
  },
  {
   "cell_type": "code",
   "execution_count": null,
   "metadata": {},
   "outputs": [],
   "source": []
  }
 ],
 "metadata": {
  "interpreter": {
   "hash": "94dfd0829861ea723591b3001b7b8d6efd29c21741fffd6b6a162c01382c010b"
  },
  "kernelspec": {
   "display_name": "Python 3.10.2 64-bit",
   "language": "python",
   "name": "python3"
  },
  "language_info": {
   "codemirror_mode": {
    "name": "ipython",
    "version": 3
   },
   "file_extension": ".py",
   "mimetype": "text/x-python",
   "name": "python",
   "nbconvert_exporter": "python",
   "pygments_lexer": "ipython3",
   "version": "3.10.2"
  },
  "orig_nbformat": 4
 },
 "nbformat": 4,
 "nbformat_minor": 2
}
