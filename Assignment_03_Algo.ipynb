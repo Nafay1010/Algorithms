{
 "cells": [
  {
   "cell_type": "markdown",
   "metadata": {},
   "source": [
    "### Assignment 03"
   ]
  },
  {
   "cell_type": "code",
   "execution_count": 15,
   "metadata": {},
   "outputs": [],
   "source": [
    "# Merges two subarrays of arr[].\n",
    "# First subarray is arr[l..m]\n",
    "# Second subarray is arr[m+1..r]\n",
    "def merge(arr, l, m, r):\n",
    "    n1 = m - l + 1\n",
    "    n2 = r - m\n",
    " \n",
    "    # create temp arrays\n",
    "    L = [0] * (n1)\n",
    "    R = [0] * (n2)\n",
    " \n",
    "    # Copy data to temp arrays L[] and R[]\n",
    "    for i in range(0, n1):\n",
    "        L[i] = arr[l + i]\n",
    " \n",
    "    for j in range(0, n2):\n",
    "        R[j] = arr[m + 1 + j]\n",
    " \n",
    "    # Merge the temp arrays back into arr[l..r]\n",
    "    i = 0     # Initial index of first subarray\n",
    "    j = 0     # Initial index of second subarray\n",
    "    k = l     # Initial index of merged subarray\n",
    " \n",
    "    while i < n1 and j < n2:\n",
    "        if L[i] <= R[j]:\n",
    "            arr[k] = L[i]\n",
    "            i += 1\n",
    "        else:\n",
    "            arr[k] = R[j]\n",
    "            j += 1\n",
    "        k += 1\n",
    " \n",
    "    # Copy the remaining elements of L[], if there\n",
    "    # are any\n",
    "    while i < n1:\n",
    "        arr[k] = L[i]\n",
    "        i += 1\n",
    "        k += 1\n",
    " \n",
    "    # Copy the remaining elements of R[], if there\n",
    "    # are any\n",
    "    while j < n2:\n",
    "        arr[k] = R[j]\n",
    "        j += 1\n",
    "        k += 1\n",
    " \n",
    "# l is for left index and r is right index of the\n",
    "# sub-array of arr to be sorted\n",
    " \n",
    " \n",
    "def mergeSort(arr, l, r):\n",
    "    if l < r:\n",
    " \n",
    "        # Same as (l+r)//2, but avoids overflow for\n",
    "        # large l and h\n",
    "        m = l+(r-l)//2\n",
    " \n",
    "        # Sort first and second halves\n",
    "        mergeSort(arr, l, m)\n",
    "        mergeSort(arr, m+1, r)\n",
    "        merge(arr, l, m, r)\n",
    "#CODE COMPLETLY MADE BY MUHAMMAD ABDUL NAFAY"
   ]
  },
  {
   "cell_type": "code",
   "execution_count": 16,
   "metadata": {},
   "outputs": [
    {
     "name": "stdout",
     "output_type": "stream",
     "text": [
      "Given array is\n",
      "2 60 69 70 86 80 85 86 87 100 \n",
      "\n",
      "Sorted array is\n",
      "2 60 69 70 80 85 86 86 87 100 "
     ]
    }
   ],
   "source": [
    "list1 = [80, 85, 86, 87, 100]\n",
    "list2 = [2, 60, 69, 70, 86]\n",
    "\n",
    "#Combining Lists\n",
    "for i in list1:\n",
    "    list2.append(i)\n",
    "\n",
    "arr = list2\n",
    "\n",
    "n = len(arr)\n",
    "\n",
    "print(\"Given array is\")\n",
    "for i in range(n):\n",
    "    print(\"%d\" % arr[i], end=\" \")\n",
    "\n",
    "mergeSort(arr, 0, n-1)\n",
    "print(\"\\n\\nSorted array is\")\n",
    "for i in range(n):\n",
    "    print(\"%d\" % arr[i], end=\" \")\n",
    "\n"
   ]
  },
  {
   "cell_type": "code",
   "execution_count": 19,
   "metadata": {},
   "outputs": [
    {
     "name": "stdout",
     "output_type": "stream",
     "text": [
      "5\n",
      "Median is:  85  &  86\n"
     ]
    }
   ],
   "source": [
    "#Finding midpoint\n",
    "mid = int(len(arr)/2)\n",
    "#Finding Median\n",
    "if (len(arr)%2 == 0):\n",
    "    #Even\n",
    "    print(\"Median is: \", arr[mid], \" & \", arr[mid+1])\n",
    "else:\n",
    "    #Odd\n",
    "    print(\"Median is: \", arr[mid])\n"
   ]
  }
 ],
 "metadata": {
  "interpreter": {
   "hash": "94dfd0829861ea723591b3001b7b8d6efd29c21741fffd6b6a162c01382c010b"
  },
  "kernelspec": {
   "display_name": "Python 3.10.2 64-bit",
   "language": "python",
   "name": "python3"
  },
  "language_info": {
   "codemirror_mode": {
    "name": "ipython",
    "version": 3
   },
   "file_extension": ".py",
   "mimetype": "text/x-python",
   "name": "python",
   "nbconvert_exporter": "python",
   "pygments_lexer": "ipython3",
   "version": "3.10.2"
  },
  "orig_nbformat": 4
 },
 "nbformat": 4,
 "nbformat_minor": 2
}
