{
 "cells": [
  {
   "cell_type": "code",
   "execution_count": 6,
   "metadata": {},
   "outputs": [],
   "source": [
    "def Towers(N, BEG, AUX, END, count):\n",
    "    if N == 1:\n",
    "        print(BEG, \"-->\", END)\n",
    "        count = count + 1 \n",
    "        print(\"Moves: \", count)\n",
    "    if N > 1:\n",
    "        Towers(N-1, BEG, END, AUX, count)\n",
    "        print(BEG, \"-->\", END)\n",
    "        count = count + 1\n",
    "        print(\"Moves: \", count)\n",
    "        Towers(N-1, AUX, BEG, END, count) "
   ]
  },
  {
   "cell_type": "code",
   "execution_count": 7,
   "metadata": {},
   "outputs": [
    {
     "name": "stdout",
     "output_type": "stream",
     "text": [
      "A --> B\n",
      "A --> C\n",
      "B --> C\n",
      "A --> B\n",
      "C --> A\n",
      "C --> B\n",
      "A --> B\n",
      "A --> C\n",
      "B --> C\n",
      "B --> A\n",
      "C --> A\n",
      "B --> C\n",
      "A --> B\n",
      "A --> C\n",
      "B --> C\n",
      "0\n"
     ]
    }
   ],
   "source": [
    "A = 'A'\n",
    "B = 'B'\n",
    "C = 'C'\n",
    "Rings = 3 #No of rings at each tower\n",
    "moves = 0 \n",
    "Towers(Rings, A, B, C, moves)\n"
   ]
  },
  {
   "cell_type": "code",
   "execution_count": null,
   "metadata": {},
   "outputs": [],
   "source": []
  }
 ],
 "metadata": {
  "interpreter": {
   "hash": "94dfd0829861ea723591b3001b7b8d6efd29c21741fffd6b6a162c01382c010b"
  },
  "kernelspec": {
   "display_name": "Python 3.10.2 64-bit",
   "language": "python",
   "name": "python3"
  },
  "language_info": {
   "codemirror_mode": {
    "name": "ipython",
    "version": 3
   },
   "file_extension": ".py",
   "mimetype": "text/x-python",
   "name": "python",
   "nbconvert_exporter": "python",
   "pygments_lexer": "ipython3",
   "version": "3.10.2"
  },
  "orig_nbformat": 4
 },
 "nbformat": 4,
 "nbformat_minor": 2
}
