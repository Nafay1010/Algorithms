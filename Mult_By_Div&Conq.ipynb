{
 "cells": [
  {
   "cell_type": "markdown",
   "metadata": {},
   "source": [
    "## Multiplication Using Divide and Conquer Approach\n",
    "#### Suppose X = 1234, then we can write X as\n",
    "Let a = 12 and b = 34\n",
    "a*10^n/2+b, let this be A\n",
    "\n",
    "#### Suppose Y = 5678, then we can write Y as:\n",
    "Let c = 56 and d = 78\n",
    "\n",
    "c*10^n/2+d, let this be B\n",
    "\n",
    "Then A * B = X * Y\n",
    "\n",
    "OR\n",
    "\n",
    "(a*10^n/2+b) * (c*10^n/2+d), expanding and simplifying this gives:\n",
    "\n",
    "### ac*10^2(n/2)+(ad+bc)*10^n/2+bd"
   ]
  },
  {
   "cell_type": "code",
   "execution_count": 2,
   "metadata": {},
   "outputs": [],
   "source": [
    "def div_Conq_Mult(x, y):\n",
    "    if x < 10 or y < 10:\n",
    "        return x * y\n",
    "    else:\n",
    "        Length = max(len(str(x)), len(str(y)))\n",
    "        shift = Length // 2\n",
    "\n",
    "        a = x // (10 ** shift)\n",
    "        b = x %  (10 ** shift)\n",
    "        c = y // (10 ** shift)\n",
    "        d = y % (10 ** shift)\n",
    "\n",
    "        ac = div_Conq_Mult(a,c)\n",
    "        bd = div_Conq_Mult(b,d)\n",
    "        ad_plus_bc = div_Conq_Mult((a+b), (c+d)) - ac - bd\n",
    "        return ac * (10 ** (2 * shift)) + (ad_plus_bc * (10 ** shift)) + bd\n"
   ]
  },
  {
   "cell_type": "code",
   "execution_count": 5,
   "metadata": {},
   "outputs": [
    {
     "name": "stdout",
     "output_type": "stream",
     "text": [
      "1396224\n"
     ]
    }
   ],
   "source": [
    "X = 432\n",
    "Y = 3232\n",
    "\n",
    "result = div_Conq_Mult(X, Y)\n",
    "print(result)"
   ]
  },
  {
   "cell_type": "code",
   "execution_count": null,
   "metadata": {},
   "outputs": [],
   "source": []
  }
 ],
 "metadata": {
  "interpreter": {
   "hash": "94dfd0829861ea723591b3001b7b8d6efd29c21741fffd6b6a162c01382c010b"
  },
  "kernelspec": {
   "display_name": "Python 3.10.2 64-bit",
   "language": "python",
   "name": "python3"
  },
  "language_info": {
   "codemirror_mode": {
    "name": "ipython",
    "version": 3
   },
   "file_extension": ".py",
   "mimetype": "text/x-python",
   "name": "python",
   "nbconvert_exporter": "python",
   "pygments_lexer": "ipython3",
   "version": "3.10.2"
  },
  "orig_nbformat": 4
 },
 "nbformat": 4,
 "nbformat_minor": 2
}
